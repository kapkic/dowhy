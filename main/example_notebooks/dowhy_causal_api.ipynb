{
 "cells": [
  {
   "cell_type": "markdown",
   "metadata": {},
   "source": [
    "# Demo for the DoWhy causal API\n",
    "We show a simple example of adding a causal extension to any dataframe. "
   ]
  },
  {
   "cell_type": "code",
   "execution_count": 1,
   "metadata": {
    "execution": {
     "iopub.execute_input": "2024-10-22T01:09:24.919407Z",
     "iopub.status.busy": "2024-10-22T01:09:24.918967Z",
     "iopub.status.idle": "2024-10-22T01:09:26.468497Z",
     "shell.execute_reply": "2024-10-22T01:09:26.467766Z"
    }
   },
   "outputs": [],
   "source": [
    "import dowhy.datasets\n",
    "import dowhy.api\n",
    "from dowhy.graph import build_graph_from_str\n",
    "\n",
    "import numpy as np\n",
    "import pandas as pd\n",
    "\n",
    "from statsmodels.api import OLS"
   ]
  },
  {
   "cell_type": "code",
   "execution_count": 2,
   "metadata": {
    "execution": {
     "iopub.execute_input": "2024-10-22T01:09:26.470980Z",
     "iopub.status.busy": "2024-10-22T01:09:26.470670Z",
     "iopub.status.idle": "2024-10-22T01:09:26.521690Z",
     "shell.execute_reply": "2024-10-22T01:09:26.521072Z"
    }
   },
   "outputs": [
    {
     "data": {
      "text/html": [
       "<div>\n",
       "<style scoped>\n",
       "    .dataframe tbody tr th:only-of-type {\n",
       "        vertical-align: middle;\n",
       "    }\n",
       "\n",
       "    .dataframe tbody tr th {\n",
       "        vertical-align: top;\n",
       "    }\n",
       "\n",
       "    .dataframe thead th {\n",
       "        text-align: right;\n",
       "    }\n",
       "</style>\n",
       "<table border=\"1\" class=\"dataframe\">\n",
       "  <thead>\n",
       "    <tr style=\"text-align: right;\">\n",
       "      <th></th>\n",
       "      <th>W0</th>\n",
       "      <th>v0</th>\n",
       "      <th>y</th>\n",
       "    </tr>\n",
       "  </thead>\n",
       "  <tbody>\n",
       "    <tr>\n",
       "      <th>0</th>\n",
       "      <td>1.043443</td>\n",
       "      <td>False</td>\n",
       "      <td>3.288370</td>\n",
       "    </tr>\n",
       "    <tr>\n",
       "      <th>1</th>\n",
       "      <td>-0.719086</td>\n",
       "      <td>True</td>\n",
       "      <td>3.827861</td>\n",
       "    </tr>\n",
       "    <tr>\n",
       "      <th>2</th>\n",
       "      <td>0.967549</td>\n",
       "      <td>False</td>\n",
       "      <td>2.757559</td>\n",
       "    </tr>\n",
       "    <tr>\n",
       "      <th>3</th>\n",
       "      <td>-0.676069</td>\n",
       "      <td>False</td>\n",
       "      <td>-2.196697</td>\n",
       "    </tr>\n",
       "    <tr>\n",
       "      <th>4</th>\n",
       "      <td>0.240388</td>\n",
       "      <td>True</td>\n",
       "      <td>6.114017</td>\n",
       "    </tr>\n",
       "    <tr>\n",
       "      <th>...</th>\n",
       "      <td>...</td>\n",
       "      <td>...</td>\n",
       "      <td>...</td>\n",
       "    </tr>\n",
       "    <tr>\n",
       "      <th>995</th>\n",
       "      <td>-1.173342</td>\n",
       "      <td>True</td>\n",
       "      <td>3.233798</td>\n",
       "    </tr>\n",
       "    <tr>\n",
       "      <th>996</th>\n",
       "      <td>1.061021</td>\n",
       "      <td>False</td>\n",
       "      <td>0.766653</td>\n",
       "    </tr>\n",
       "    <tr>\n",
       "      <th>997</th>\n",
       "      <td>1.812507</td>\n",
       "      <td>True</td>\n",
       "      <td>8.387034</td>\n",
       "    </tr>\n",
       "    <tr>\n",
       "      <th>998</th>\n",
       "      <td>1.389300</td>\n",
       "      <td>False</td>\n",
       "      <td>1.748483</td>\n",
       "    </tr>\n",
       "    <tr>\n",
       "      <th>999</th>\n",
       "      <td>1.041059</td>\n",
       "      <td>True</td>\n",
       "      <td>8.247229</td>\n",
       "    </tr>\n",
       "  </tbody>\n",
       "</table>\n",
       "<p>1000 rows × 3 columns</p>\n",
       "</div>"
      ],
      "text/plain": [
       "           W0     v0         y\n",
       "0    1.043443  False  3.288370\n",
       "1   -0.719086   True  3.827861\n",
       "2    0.967549  False  2.757559\n",
       "3   -0.676069  False -2.196697\n",
       "4    0.240388   True  6.114017\n",
       "..        ...    ...       ...\n",
       "995 -1.173342   True  3.233798\n",
       "996  1.061021  False  0.766653\n",
       "997  1.812507   True  8.387034\n",
       "998  1.389300  False  1.748483\n",
       "999  1.041059   True  8.247229\n",
       "\n",
       "[1000 rows x 3 columns]"
      ]
     },
     "execution_count": 2,
     "metadata": {},
     "output_type": "execute_result"
    }
   ],
   "source": [
    "data = dowhy.datasets.linear_dataset(beta=5,\n",
    "        num_common_causes=1,\n",
    "        num_instruments = 0,\n",
    "        num_samples=1000,\n",
    "        treatment_is_binary=True)\n",
    "df = data['df']\n",
    "df['y'] = df['y'] + np.random.normal(size=len(df)) # Adding noise to data. Without noise, the variance in Y|X, Z is zero, and mcmc fails.\n",
    "nx_graph = build_graph_from_str(data[\"dot_graph\"])\n",
    "\n",
    "treatment= data[\"treatment_name\"][0]\n",
    "outcome = data[\"outcome_name\"][0]\n",
    "common_cause = data[\"common_causes_names\"][0]\n",
    "df"
   ]
  },
  {
   "cell_type": "code",
   "execution_count": 3,
   "metadata": {
    "execution": {
     "iopub.execute_input": "2024-10-22T01:09:26.523796Z",
     "iopub.status.busy": "2024-10-22T01:09:26.523412Z",
     "iopub.status.idle": "2024-10-22T01:09:26.718046Z",
     "shell.execute_reply": "2024-10-22T01:09:26.717483Z"
    },
    "scrolled": true
   },
   "outputs": [
    {
     "data": {
      "text/plain": [
       "<Axes: xlabel='v0'>"
      ]
     },
     "execution_count": 3,
     "metadata": {},
     "output_type": "execute_result"
    },
    {
     "data": {
      "image/png": "[encoded data removed]",
      "text/plain": [
       "<Figure size 640x480 with 1 Axes>"
      ]
     },
     "metadata": {},
     "output_type": "display_data"
    }
   ],
   "source": [
    "# data['df'] is just a regular pandas.DataFrame\n",
    "df.causal.do(x=treatment,\n",
    "             variable_types={treatment: 'b', outcome: 'c', common_cause: 'c'},\n",
    "             outcome=outcome,\n",
    "             common_causes=[common_cause],\n",
    "            ).groupby(treatment).mean().plot(y=outcome, kind='bar')"
   ]
  },
  {
   "cell_type": "code",
   "execution_count": 4,
   "metadata": {
    "execution": {
     "iopub.execute_input": "2024-10-22T01:09:26.720112Z",
     "iopub.status.busy": "2024-10-22T01:09:26.719729Z",
     "iopub.status.idle": "2024-10-22T01:09:26.862788Z",
     "shell.execute_reply": "2024-10-22T01:09:26.862198Z"
    }
   },
   "outputs": [
    {
     "data": {
      "text/plain": [
       "<Axes: xlabel='v0'>"
      ]
     },
     "execution_count": 4,
     "metadata": {},
     "output_type": "execute_result"
    },
    {
     "data": {
      "image/png": "[encoded data removed]",
      "text/plain": [
       "<Figure size 640x480 with 1 Axes>"
      ]
     },
     "metadata": {},
     "output_type": "display_data"
    }
   ],
   "source": [
    "df.causal.do(x={treatment: 1}, \n",
    "              variable_types={treatment:'b', outcome: 'c', common_cause: 'c'}, \n",
    "              outcome=outcome,\n",
    "              method='weighting', \n",
    "              common_causes=[common_cause]\n",
    "              ).groupby(treatment).mean().plot(y=outcome, kind='bar')"
   ]
  },
  {
   "cell_type": "code",
   "execution_count": 5,
   "metadata": {
    "execution": {
     "iopub.execute_input": "2024-10-22T01:09:26.864886Z",
     "iopub.status.busy": "2024-10-22T01:09:26.864502Z",
     "iopub.status.idle": "2024-10-22T01:09:26.886262Z",
     "shell.execute_reply": "2024-10-22T01:09:26.885688Z"
    }
   },
   "outputs": [],
   "source": [
    "cdf_1 = df.causal.do(x={treatment: 1}, \n",
    "              variable_types={treatment: 'b', outcome: 'c', common_cause: 'c'}, \n",
    "              outcome=outcome, \n",
    "              graph=nx_graph\n",
    "              )\n",
    "\n",
    "cdf_0 = df.causal.do(x={treatment: 0}, \n",
    "              variable_types={treatment: 'b', outcome: 'c', common_cause: 'c'}, \n",
    "              outcome=outcome, \n",
    "              graph=nx_graph\n",
    "              )\n"
   ]
  },
  {
   "cell_type": "code",
   "execution_count": 6,
   "metadata": {
    "execution": {
     "iopub.execute_input": "2024-10-22T01:09:26.888572Z",
     "iopub.status.busy": "2024-10-22T01:09:26.888180Z",
     "iopub.status.idle": "2024-10-22T01:09:26.897261Z",
     "shell.execute_reply": "2024-10-22T01:09:26.896761Z"
    },
    "scrolled": true
   },
   "outputs": [
    {
     "data": {
      "text/html": [
       "<div>\n",
       "<style scoped>\n",
       "    .dataframe tbody tr th:only-of-type {\n",
       "        vertical-align: middle;\n",
       "    }\n",
       "\n",
       "    .dataframe tbody tr th {\n",
       "        vertical-align: top;\n",
       "    }\n",
       "\n",
       "    .dataframe thead th {\n",
       "        text-align: right;\n",
       "    }\n",
       "</style>\n",
       "<table border=\"1\" class=\"dataframe\">\n",
       "  <thead>\n",
       "    <tr style=\"text-align: right;\">\n",
       "      <th></th>\n",
       "      <th>W0</th>\n",
       "      <th>v0</th>\n",
       "      <th>y</th>\n",
       "      <th>propensity_score</th>\n",
       "      <th>weight</th>\n",
       "    </tr>\n",
       "  </thead>\n",
       "  <tbody>\n",
       "    <tr>\n",
       "      <th>0</th>\n",
       "      <td>1.251503</td>\n",
       "      <td>False</td>\n",
       "      <td>4.648686</td>\n",
       "      <td>0.445524</td>\n",
       "      <td>2.244549</td>\n",
       "    </tr>\n",
       "    <tr>\n",
       "      <th>1</th>\n",
       "      <td>2.575259</td>\n",
       "      <td>False</td>\n",
       "      <td>6.555148</td>\n",
       "      <td>0.396166</td>\n",
       "      <td>2.524197</td>\n",
       "    </tr>\n",
       "    <tr>\n",
       "      <th>2</th>\n",
       "      <td>0.840849</td>\n",
       "      <td>False</td>\n",
       "      <td>1.729413</td>\n",
       "      <td>0.461105</td>\n",
       "      <td>2.168702</td>\n",
       "    </tr>\n",
       "    <tr>\n",
       "      <th>3</th>\n",
       "      <td>2.991209</td>\n",
       "      <td>False</td>\n",
       "      <td>5.811982</td>\n",
       "      <td>0.381035</td>\n",
       "      <td>2.624432</td>\n",
       "    </tr>\n",
       "    <tr>\n",
       "      <th>4</th>\n",
       "      <td>1.165415</td>\n",
       "      <td>False</td>\n",
       "      <td>1.450720</td>\n",
       "      <td>0.448782</td>\n",
       "      <td>2.228251</td>\n",
       "    </tr>\n",
       "    <tr>\n",
       "      <th>...</th>\n",
       "      <td>...</td>\n",
       "      <td>...</td>\n",
       "      <td>...</td>\n",
       "      <td>...</td>\n",
       "      <td>...</td>\n",
       "    </tr>\n",
       "    <tr>\n",
       "      <th>995</th>\n",
       "      <td>1.095525</td>\n",
       "      <td>False</td>\n",
       "      <td>2.874825</td>\n",
       "      <td>0.451431</td>\n",
       "      <td>2.215177</td>\n",
       "    </tr>\n",
       "    <tr>\n",
       "      <th>996</th>\n",
       "      <td>1.061021</td>\n",
       "      <td>False</td>\n",
       "      <td>0.766653</td>\n",
       "      <td>0.452740</td>\n",
       "      <td>2.208774</td>\n",
       "    </tr>\n",
       "    <tr>\n",
       "      <th>997</th>\n",
       "      <td>1.095525</td>\n",
       "      <td>False</td>\n",
       "      <td>2.874825</td>\n",
       "      <td>0.451431</td>\n",
       "      <td>2.215177</td>\n",
       "    </tr>\n",
       "    <tr>\n",
       "      <th>998</th>\n",
       "      <td>-0.010993</td>\n",
       "      <td>False</td>\n",
       "      <td>0.013939</td>\n",
       "      <td>0.493636</td>\n",
       "      <td>2.025785</td>\n",
       "    </tr>\n",
       "    <tr>\n",
       "      <th>999</th>\n",
       "      <td>0.379926</td>\n",
       "      <td>False</td>\n",
       "      <td>0.652875</td>\n",
       "      <td>0.478684</td>\n",
       "      <td>2.089062</td>\n",
       "    </tr>\n",
       "  </tbody>\n",
       "</table>\n",
       "<p>1000 rows × 5 columns</p>\n",
       "</div>"
      ],
      "text/plain": [
       "           W0     v0         y  propensity_score    weight\n",
       "0    1.251503  False  4.648686          0.445524  2.244549\n",
       "1    2.575259  False  6.555148          0.396166  2.524197\n",
       "2    0.840849  False  1.729413          0.461105  2.168702\n",
       "3    2.991209  False  5.811982          0.381035  2.624432\n",
       "4    1.165415  False  1.450720          0.448782  2.228251\n",
       "..        ...    ...       ...               ...       ...\n",
       "995  1.095525  False  2.874825          0.451431  2.215177\n",
       "996  1.061021  False  0.766653          0.452740  2.208774\n",
       "997  1.095525  False  2.874825          0.451431  2.215177\n",
       "998 -0.010993  False  0.013939          0.493636  2.025785\n",
       "999  0.379926  False  0.652875          0.478684  2.089062\n",
       "\n",
       "[1000 rows x 5 columns]"
      ]
     },
     "execution_count": 6,
     "metadata": {},
     "output_type": "execute_result"
    }
   ],
   "source": [
    "cdf_0"
   ]
  },
  {
   "cell_type": "code",
   "execution_count": 7,
   "metadata": {
    "execution": {
     "iopub.execute_input": "2024-10-22T01:09:26.899268Z",
     "iopub.status.busy": "2024-10-22T01:09:26.898893Z",
     "iopub.status.idle": "2024-10-22T01:09:26.907993Z",
     "shell.execute_reply": "2024-10-22T01:09:26.907484Z"
    }
   },
   "outputs": [
    {
     "data": {
      "text/html": [
       "<div>\n",
       "<style scoped>\n",
       "    .dataframe tbody tr th:only-of-type {\n",
       "        vertical-align: middle;\n",
       "    }\n",
       "\n",
       "    .dataframe tbody tr th {\n",
       "        vertical-align: top;\n",
       "    }\n",
       "\n",
       "    .dataframe thead th {\n",
       "        text-align: right;\n",
       "    }\n",
       "</style>\n",
       "<table border=\"1\" class=\"dataframe\">\n",
       "  <thead>\n",
       "    <tr style=\"text-align: right;\">\n",
       "      <th></th>\n",
       "      <th>W0</th>\n",
       "      <th>v0</th>\n",
       "      <th>y</th>\n",
       "      <th>propensity_score</th>\n",
       "      <th>weight</th>\n",
       "    </tr>\n",
       "  </thead>\n",
       "  <tbody>\n",
       "    <tr>\n",
       "      <th>0</th>\n",
       "      <td>0.212877</td>\n",
       "      <td>True</td>\n",
       "      <td>3.122988</td>\n",
       "      <td>0.514930</td>\n",
       "      <td>1.942011</td>\n",
       "    </tr>\n",
       "    <tr>\n",
       "      <th>1</th>\n",
       "      <td>0.791773</td>\n",
       "      <td>True</td>\n",
       "      <td>9.022931</td>\n",
       "      <td>0.537027</td>\n",
       "      <td>1.862104</td>\n",
       "    </tr>\n",
       "    <tr>\n",
       "      <th>2</th>\n",
       "      <td>0.626781</td>\n",
       "      <td>True</td>\n",
       "      <td>6.875759</td>\n",
       "      <td>0.530740</td>\n",
       "      <td>1.884162</td>\n",
       "    </tr>\n",
       "    <tr>\n",
       "      <th>3</th>\n",
       "      <td>0.119495</td>\n",
       "      <td>True</td>\n",
       "      <td>6.846478</td>\n",
       "      <td>0.511358</td>\n",
       "      <td>1.955578</td>\n",
       "    </tr>\n",
       "    <tr>\n",
       "      <th>4</th>\n",
       "      <td>-0.397422</td>\n",
       "      <td>True</td>\n",
       "      <td>4.782325</td>\n",
       "      <td>0.491573</td>\n",
       "      <td>2.034286</td>\n",
       "    </tr>\n",
       "    <tr>\n",
       "      <th>...</th>\n",
       "      <td>...</td>\n",
       "      <td>...</td>\n",
       "      <td>...</td>\n",
       "      <td>...</td>\n",
       "      <td>...</td>\n",
       "    </tr>\n",
       "    <tr>\n",
       "      <th>995</th>\n",
       "      <td>0.592020</td>\n",
       "      <td>True</td>\n",
       "      <td>7.671610</td>\n",
       "      <td>0.529414</td>\n",
       "      <td>1.888880</td>\n",
       "    </tr>\n",
       "    <tr>\n",
       "      <th>996</th>\n",
       "      <td>-0.193414</td>\n",
       "      <td>True</td>\n",
       "      <td>4.251908</td>\n",
       "      <td>0.499382</td>\n",
       "      <td>2.002477</td>\n",
       "    </tr>\n",
       "    <tr>\n",
       "      <th>997</th>\n",
       "      <td>-0.764507</td>\n",
       "      <td>True</td>\n",
       "      <td>5.038481</td>\n",
       "      <td>0.477535</td>\n",
       "      <td>2.094087</td>\n",
       "    </tr>\n",
       "    <tr>\n",
       "      <th>998</th>\n",
       "      <td>0.669331</td>\n",
       "      <td>True</td>\n",
       "      <td>5.780822</td>\n",
       "      <td>0.532362</td>\n",
       "      <td>1.878420</td>\n",
       "    </tr>\n",
       "    <tr>\n",
       "      <th>999</th>\n",
       "      <td>0.322424</td>\n",
       "      <td>True</td>\n",
       "      <td>5.712695</td>\n",
       "      <td>0.519119</td>\n",
       "      <td>1.926342</td>\n",
       "    </tr>\n",
       "  </tbody>\n",
       "</table>\n",
       "<p>1000 rows × 5 columns</p>\n",
       "</div>"
      ],
      "text/plain": [
       "           W0    v0         y  propensity_score    weight\n",
       "0    0.212877  True  3.122988          0.514930  1.942011\n",
       "1    0.791773  True  9.022931          0.537027  1.862104\n",
       "2    0.626781  True  6.875759          0.530740  1.884162\n",
       "3    0.119495  True  6.846478          0.511358  1.955578\n",
       "4   -0.397422  True  4.782325          0.491573  2.034286\n",
       "..        ...   ...       ...               ...       ...\n",
       "995  0.592020  True  7.671610          0.529414  1.888880\n",
       "996 -0.193414  True  4.251908          0.499382  2.002477\n",
       "997 -0.764507  True  5.038481          0.477535  2.094087\n",
       "998  0.669331  True  5.780822          0.532362  1.878420\n",
       "999  0.322424  True  5.712695          0.519119  1.926342\n",
       "\n",
       "[1000 rows x 5 columns]"
      ]
     },
     "execution_count": 7,
     "metadata": {},
     "output_type": "execute_result"
    }
   ],
   "source": [
    "cdf_1"
   ]
  },
  {
   "cell_type": "markdown",
   "metadata": {},
   "source": [
    "## Comparing the estimate to Linear Regression\n",
    "First, estimating the effect using the causal data frame, and the 95% confidence interval."
   ]
  },
  {
   "cell_type": "code",
   "execution_count": 8,
   "metadata": {
    "execution": {
     "iopub.execute_input": "2024-10-22T01:09:26.909808Z",
     "iopub.status.busy": "2024-10-22T01:09:26.909611Z",
     "iopub.status.idle": "2024-10-22T01:09:26.958108Z",
     "shell.execute_reply": "2024-10-22T01:09:26.957524Z"
    }
   },
   "outputs": [
    {
     "data": {
      "image/png": "[encoded data removed]",
      "text/latex": [
       "$\\displaystyle 4.8534431379023$"
      ],
      "text/plain": [
       "4.8534431379023"
      ]
     },
     "execution_count": 8,
     "metadata": {},
     "output_type": "execute_result"
    }
   ],
   "source": [
    "(cdf_1['y'] - cdf_0['y']).mean()"
   ]
  },
  {
   "cell_type": "code",
   "execution_count": 9,
   "metadata": {
    "execution": {
     "iopub.execute_input": "2024-10-22T01:09:26.960001Z",
     "iopub.status.busy": "2024-10-22T01:09:26.959769Z",
     "iopub.status.idle": "2024-10-22T01:09:26.977067Z",
     "shell.execute_reply": "2024-10-22T01:09:26.976461Z"
    }
   },
   "outputs": [
    {
     "data": {
      "image/png": "[encoded data removed]",
      "text/latex": [
       "$\\displaystyle 0.21798855853523$"
      ],
      "text/plain": [
       "0.21798855853522991"
      ]
     },
     "execution_count": 9,
     "metadata": {},
     "output_type": "execute_result"
    }
   ],
   "source": [
    "1.96*(cdf_1['y'] - cdf_0['y']).std() / np.sqrt(len(df))"
   ]
  },
  {
   "cell_type": "markdown",
   "metadata": {},
   "source": [
    "Comparing to the estimate from OLS."
   ]
  },
  {
   "cell_type": "code",
   "execution_count": 10,
   "metadata": {
    "execution": {
     "iopub.execute_input": "2024-10-22T01:09:26.979075Z",
     "iopub.status.busy": "2024-10-22T01:09:26.978875Z",
     "iopub.status.idle": "2024-10-22T01:09:26.997555Z",
     "shell.execute_reply": "2024-10-22T01:09:26.996869Z"
    }
   },
   "outputs": [
    {
     "data": {
      "text/html": [
       "<table class=\"simpletable\">\n",
       "<caption>OLS Regression Results</caption>\n",
       "<tr>\n",
       "  <th>Dep. Variable:</th>            <td>y</td>        <th>  R-squared (uncentered):</th>      <td>   0.963</td> \n",
       "</tr>\n",
       "<tr>\n",
       "  <th>Model:</th>                   <td>OLS</td>       <th>  Adj. R-squared (uncentered):</th> <td>   0.963</td> \n",
       "</tr>\n",
       "<tr>\n",
       "  <th>Method:</th>             <td>Least Squares</td>  <th>  F-statistic:       </th>          <td>1.301e+04</td>\n",
       "</tr>\n",
       "<tr>\n",
       "  <th>Date:</th>             <td>Tue, 22 Oct 2024</td> <th>  Prob (F-statistic):</th>           <td>  0.00</td>  \n",
       "</tr>\n",
       "<tr>\n",
       "  <th>Time:</th>                 <td>01:09:26</td>     <th>  Log-Likelihood:    </th>          <td> -1420.6</td> \n",
       "</tr>\n",
       "<tr>\n",
       "  <th>No. Observations:</th>      <td>  1000</td>      <th>  AIC:               </th>          <td>   2845.</td> \n",
       "</tr>\n",
       "<tr>\n",
       "  <th>Df Residuals:</th>          <td>   998</td>      <th>  BIC:               </th>          <td>   2855.</td> \n",
       "</tr>\n",
       "<tr>\n",
       "  <th>Df Model:</th>              <td>     2</td>      <th>                     </th>              <td> </td>    \n",
       "</tr>\n",
       "<tr>\n",
       "  <th>Covariance Type:</th>      <td>nonrobust</td>    <th>                     </th>              <td> </td>    \n",
       "</tr>\n",
       "</table>\n",
       "<table class=\"simpletable\">\n",
       "<tr>\n",
       "   <td></td>     <th>coef</th>     <th>std err</th>      <th>t</th>      <th>P>|t|</th>  <th>[0.025</th>    <th>0.975]</th>  \n",
       "</tr>\n",
       "<tr>\n",
       "  <th>x1</th> <td>    2.3089</td> <td>    0.031</td> <td>   74.423</td> <td> 0.000</td> <td>    2.248</td> <td>    2.370</td>\n",
       "</tr>\n",
       "<tr>\n",
       "  <th>x2</th> <td>    5.0562</td> <td>    0.047</td> <td>  108.194</td> <td> 0.000</td> <td>    4.964</td> <td>    5.148</td>\n",
       "</tr>\n",
       "</table>\n",
       "<table class=\"simpletable\">\n",
       "<tr>\n",
       "  <th>Omnibus:</th>       <td> 0.524</td> <th>  Durbin-Watson:     </th> <td>   2.068</td>\n",
       "</tr>\n",
       "<tr>\n",
       "  <th>Prob(Omnibus):</th> <td> 0.770</td> <th>  Jarque-Bera (JB):  </th> <td>   0.565</td>\n",
       "</tr>\n",
       "<tr>\n",
       "  <th>Skew:</th>          <td> 0.054</td> <th>  Prob(JB):          </th> <td>   0.754</td>\n",
       "</tr>\n",
       "<tr>\n",
       "  <th>Kurtosis:</th>      <td> 2.957</td> <th>  Cond. No.          </th> <td>    1.74</td>\n",
       "</tr>\n",
       "</table><br/><br/>Notes:<br/>[1] R² is computed without centering (uncentered) since the model does not contain a constant.<br/>[2] Standard Errors assume that the covariance matrix of the errors is correctly specified."
      ],
      "text/latex": [
       "\\begin{center}\n",
       "\\begin{tabular}{lclc}\n",
       "\\toprule\n",
       "\\textbf{Dep. Variable:}    &        y         & \\textbf{  R-squared (uncentered):}      &     0.963   \\\\\n",
       "\\textbf{Model:}            &       OLS        & \\textbf{  Adj. R-squared (uncentered):} &     0.963   \\\\\n",
       "\\textbf{Method:}           &  Least Squares   & \\textbf{  F-statistic:       }          & 1.301e+04   \\\\\n",
       "\\textbf{Date:}             & Tue, 22 Oct 2024 & \\textbf{  Prob (F-statistic):}          &     0.00    \\\\\n",
       "\\textbf{Time:}             &     01:09:26     & \\textbf{  Log-Likelihood:    }          &   -1420.6   \\\\\n",
       "\\textbf{No. Observations:} &        1000      & \\textbf{  AIC:               }          &     2845.   \\\\\n",
       "\\textbf{Df Residuals:}     &         998      & \\textbf{  BIC:               }          &     2855.   \\\\\n",
       "\\textbf{Df Model:}         &           2      & \\textbf{                     }          &             \\\\\n",
       "\\textbf{Covariance Type:}  &    nonrobust     & \\textbf{                     }          &             \\\\\n",
       "\\bottomrule\n",
       "\\end{tabular}\n",
       "\\begin{tabular}{lcccccc}\n",
       "            & \\textbf{coef} & \\textbf{std err} & \\textbf{t} & \\textbf{P$> |$t$|$} & \\textbf{[0.025} & \\textbf{0.975]}  \\\\\n",
       "\\midrule\n",
       "\\textbf{x1} &       2.3089  &        0.031     &    74.423  &         0.000        &        2.248    &        2.370     \\\\\n",
       "\\textbf{x2} &       5.0562  &        0.047     &   108.194  &         0.000        &        4.964    &        5.148     \\\\\n",
       "\\bottomrule\n",
       "\\end{tabular}\n",
       "\\begin{tabular}{lclc}\n",
       "\\textbf{Omnibus:}       &  0.524 & \\textbf{  Durbin-Watson:     } &    2.068  \\\\\n",
       "\\textbf{Prob(Omnibus):} &  0.770 & \\textbf{  Jarque-Bera (JB):  } &    0.565  \\\\\n",
       "\\textbf{Skew:}          &  0.054 & \\textbf{  Prob(JB):          } &    0.754  \\\\\n",
       "\\textbf{Kurtosis:}      &  2.957 & \\textbf{  Cond. No.          } &     1.74  \\\\\n",
       "\\bottomrule\n",
       "\\end{tabular}\n",
       "%\\caption{OLS Regression Results}\n",
       "\\end{center}\n",
       "\n",
       "Notes: \\newline\n",
       " [1] R² is computed without centering (uncentered) since the model does not contain a constant. \\newline\n",
       " [2] Standard Errors assume that the covariance matrix of the errors is correctly specified."
      ],
      "text/plain": [
       "<class 'statsmodels.iolib.summary.Summary'>\n",
       "\"\"\"\n",
       "                                 OLS Regression Results                                \n",
       "=======================================================================================\n",
       "Dep. Variable:                      y   R-squared (uncentered):                   0.963\n",
       "Model:                            OLS   Adj. R-squared (uncentered):              0.963\n",
       "Method:                 Least Squares   F-statistic:                          1.301e+04\n",
       "Date:                Tue, 22 Oct 2024   Prob (F-statistic):                        0.00\n",
       "Time:                        01:09:26   Log-Likelihood:                         -1420.6\n",
       "No. Observations:                1000   AIC:                                      2845.\n",
       "Df Residuals:                     998   BIC:                                      2855.\n",
       "Df Model:                           2                                                  \n",
       "Covariance Type:            nonrobust                                                  \n",
       "==============================================================================\n",
       "                 coef    std err          t      P>|t|      [0.025      0.975]\n",
       "------------------------------------------------------------------------------\n",
       "x1             2.3089      0.031     74.423      0.000       2.248       2.370\n",
       "x2             5.0562      0.047    108.194      0.000       4.964       5.148\n",
       "==============================================================================\n",
       "Omnibus:                        0.524   Durbin-Watson:                   2.068\n",
       "Prob(Omnibus):                  0.770   Jarque-Bera (JB):                0.565\n",
       "Skew:                           0.054   Prob(JB):                        0.754\n",
       "Kurtosis:                       2.957   Cond. No.                         1.74\n",
       "==============================================================================\n",
       "\n",
       "Notes:\n",
       "[1] R² is computed without centering (uncentered) since the model does not contain a constant.\n",
       "[2] Standard Errors assume that the covariance matrix of the errors is correctly specified.\n",
       "\"\"\""
      ]
     },
     "execution_count": 10,
     "metadata": {},
     "output_type": "execute_result"
    }
   ],
   "source": [
    "model = OLS(np.asarray(df[outcome]), np.asarray(df[[common_cause, treatment]], dtype=np.float64))\n",
    "result = model.fit()\n",
    "result.summary()"
   ]
  }
 ],
 "metadata": {
  "kernelspec": {
   "display_name": "Python 3 (ipykernel)",
   "language": "python",
   "name": "python3"
  },
  "language_info": {
   "codemirror_mode": {
    "name": "ipython",
    "version": 3
   },
   "file_extension": ".py",
   "mimetype": "text/x-python",
   "name": "python",
   "nbconvert_exporter": "python",
   "pygments_lexer": "ipython3",
   "version": "3.8.10"
  },
  "toc": {
   "base_numbering": 1,
   "nav_menu": {},
   "number_sections": false,
   "sideBar": true,
   "skip_h1_title": true,
   "title_cell": "Table of Contents",
   "title_sidebar": "Contents",
   "toc_cell": false,
   "toc_position": {},
   "toc_section_display": true,
   "toc_window_display": false
  }
 },
 "nbformat": 4,
 "nbformat_minor": 4
}
